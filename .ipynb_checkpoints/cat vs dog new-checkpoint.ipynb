{
 "cells": [
  {
   "cell_type": "code",
   "execution_count": 1,
   "metadata": {
    "collapsed": true
   },
   "outputs": [],
   "source": [
    "import cv2                 # working with, mainly resizing, images\n",
    "import numpy as np         # dealing with arrays\n",
    "import os                  # dealing with directories\n",
    "from random import shuffle # mixing up or currently ordered data that might lead our network astray in training.\n",
    "from tqdm import tqdm      # a nice pretty percentage bar for tasks. Thanks to viewer Daniel BA1/4hler for this suggestion"
   ]
  },
  {
   "cell_type": "code",
   "execution_count": 6,
   "metadata": {
    "collapsed": true
   },
   "outputs": [],
   "source": [
    "TRAIN_DIR = 'catdogdata/train/'\n",
    "TEST_DIR = 'catdogdata/test/'\n",
    "IMG_SIZE = 64\n",
    "LR = 1e-3"
   ]
  },
  {
   "cell_type": "code",
   "execution_count": 7,
   "metadata": {},
   "outputs": [
    {
     "data": {
      "text/plain": [
       "0"
      ]
     },
     "execution_count": 7,
     "metadata": {},
     "output_type": "execute_result"
    }
   ],
   "source": [
    "def label_img(img):\n",
    "    if 'dog' in img:\n",
    "        return 1\n",
    "    elif 'cat' in img:\n",
    "        return 0\n",
    "    \n",
    "label_img('cat.0.jpg')"
   ]
  },
  {
   "cell_type": "code",
   "execution_count": 8,
   "metadata": {
    "collapsed": true
   },
   "outputs": [],
   "source": [
    "def read_image(img):\n",
    "    label = label_img(img)\n",
    "    # Read image and turn it into grayscale\n",
    "    img = cv2.imread(img,cv2.IMREAD_GRAYSCALE)\n",
    "    # Resize images into IMG_SIZE x IMG_SIZE\n",
    "    img = cv2.resize(img, (IMG_SIZE,IMG_SIZE))\n",
    "    return img\n",
    "\n",
    "def create_train_data():\n",
    "    filenames = [i for i in os.listdir(TRAIN_DIR)]\n",
    "    count = len(filenames)\n",
    "    training_images = np.ndarray((count, 3, IMG_SIZE, IMG_SIZE), dtype=np.uint8)\n",
    "    training_labels = []\n",
    "    shuffle(filenames)\n",
    "    for i in tqdm(range(count)):\n",
    "        filename = filenames[i]\n",
    "        full_image_path = TRAIN_DIR + filename\n",
    "        label = label_img(filename)\n",
    "        # Read image and turn it into grayscale\n",
    "        img = cv2.imread(full_image_path,cv2.IMREAD_GRAYSCALE)\n",
    "        # Resize images into IMG_SIZE x IMG_SIZE\n",
    "        img = cv2.resize(img, (IMG_SIZE,IMG_SIZE))\n",
    "        training_images[i] = img.T\n",
    "        training_labels.append(label)\n",
    "    np.save('training_data', training_images)\n",
    "    print('Saved training data')\n",
    "    return training_images, np.array(training_labels)\n",
    "\n",
    "def create_test_data():\n",
    "    filenames = [TEST_DIR + i for i in os.listdir(TEST_DIR)]\n",
    "    count = len(filenames)\n",
    "    testing_image = np.ndarray((count, 3, IMG_SIZE, IMG_SIZE), dtype=np.uint8)\n",
    "    for i in tqdm(range(count)):\n",
    "        img = filenames[i]\n",
    "        img = read_image(img)\n",
    "        testing_image[i] = img.T\n",
    "    \n",
    "    return testing_image\n",
    "\n",
    "def create_original_test_data():\n",
    "    filenames = [TEST_DIR + i for i in os.listdir(TEST_DIR)]\n",
    "    count = len(filenames)\n",
    "    original_testing_image = []\n",
    "    for i in tqdm(range(count)):\n",
    "        img = filenames[i]\n",
    "        img = cv2.imread(img)\n",
    "        original_testing_image.append(img.T)\n",
    "    return original_testing_image\n",
    "    "
   ]
  },
  {
   "cell_type": "code",
   "execution_count": 9,
   "metadata": {},
   "outputs": [
    {
     "name": "stderr",
     "output_type": "stream",
     "text": [
      "100%|██████████| 25000/25000 [00:32<00:00, 757.66it/s]\n"
     ]
    },
    {
     "name": "stdout",
     "output_type": "stream",
     "text": [
      "Saved training data\n"
     ]
    }
   ],
   "source": [
    "training_data, training_labels = create_train_data()"
   ]
  },
  {
   "cell_type": "code",
   "execution_count": 10,
   "metadata": {},
   "outputs": [
    {
     "name": "stdout",
     "output_type": "stream",
     "text": [
      "(25000, 3, 64, 64)\n",
      "4\n"
     ]
    }
   ],
   "source": [
    "print(training_data.shape)\n",
    "print(training_data.ndim)"
   ]
  },
  {
   "cell_type": "code",
   "execution_count": 11,
   "metadata": {},
   "outputs": [
    {
     "data": {
      "text/plain": [
       "array([1, 1, 1, ..., 1, 1, 1])"
      ]
     },
     "execution_count": 11,
     "metadata": {},
     "output_type": "execute_result"
    }
   ],
   "source": [
    "training_labels"
   ]
  },
  {
   "cell_type": "code",
   "execution_count": 12,
   "metadata": {},
   "outputs": [
    {
     "name": "stderr",
     "output_type": "stream",
     "text": [
      "100%|██████████| 12500/12500 [00:16<00:00, 770.14it/s]\n"
     ]
    }
   ],
   "source": [
    "testing_image = create_test_data()"
   ]
  },
  {
   "cell_type": "code",
   "execution_count": 13,
   "metadata": {},
   "outputs": [
    {
     "data": {
      "text/plain": [
       "(12500, 3, 64, 64)"
      ]
     },
     "execution_count": 13,
     "metadata": {},
     "output_type": "execute_result"
    }
   ],
   "source": [
    "testing_image.shape"
   ]
  },
  {
   "cell_type": "code",
   "execution_count": null,
   "metadata": {
    "collapsed": true
   },
   "outputs": [],
   "source": [
    "original_testing_image = create_original_test_data()\n",
    "original_testing_image[0]"
   ]
  },
  {
   "cell_type": "code",
   "execution_count": 9,
   "metadata": {
    "collapsed": true
   },
   "outputs": [],
   "source": [
    "import matplotlib.pyplot as plt\n",
    "%matplotlib inline"
   ]
  },
  {
   "cell_type": "code",
   "execution_count": 10,
   "metadata": {},
   "outputs": [
    {
     "name": "stdout",
     "output_type": "stream",
     "text": [
      "[[[255 255 255 ..., 255 255 255]\n",
      "  [255 255 253 ..., 254 255 255]\n",
      "  [254 252 251 ..., 251 253 255]\n",
      "  ..., \n",
      "  [254 251 251 ..., 234 244 253]\n",
      "  [255 255 253 ..., 254 254 254]\n",
      "  [255 255 255 ..., 255 255 255]]\n",
      "\n",
      " [[255 255 255 ..., 255 255 255]\n",
      "  [255 255 253 ..., 254 255 255]\n",
      "  [254 252 251 ..., 251 253 255]\n",
      "  ..., \n",
      "  [254 251 251 ..., 234 244 253]\n",
      "  [255 255 253 ..., 254 254 254]\n",
      "  [255 255 255 ..., 255 255 255]]\n",
      "\n",
      " [[255 255 255 ..., 255 255 255]\n",
      "  [255 255 253 ..., 254 255 255]\n",
      "  [254 252 251 ..., 251 253 255]\n",
      "  ..., \n",
      "  [254 251 251 ..., 234 244 253]\n",
      "  [255 255 253 ..., 254 254 254]\n",
      "  [255 255 255 ..., 255 255 255]]]\n"
     ]
    },
    {
     "data": {
      "text/plain": [
       "<matplotlib.image.AxesImage at 0x110001650>"
      ]
     },
     "execution_count": 10,
     "metadata": {},
     "output_type": "execute_result"
    },
    {
     "data": {
      "image/png": "[encoded data removed]",
      "text/plain": [
       "<matplotlib.figure.Figure at 0x10c08de50>"
      ]
     },
     "metadata": {},
     "output_type": "display_data"
    }
   ],
   "source": [
    "# First element is an image\n",
    "# Second element is a label\n",
    "print(training_data[0])\n",
    "# Checking how an image looks like\n",
    "plt.imshow(training_data[0][0])"
   ]
  },
  {
   "cell_type": "code",
   "execution_count": 11,
   "metadata": {},
   "outputs": [
    {
     "name": "stderr",
     "output_type": "stream",
     "text": [
      "Using TensorFlow backend.\n"
     ]
    }
   ],
   "source": [
    "# Build a neural network\n",
    "from keras.models import Sequential\n",
    "from keras.layers import Input, Dropout, Flatten, Conv2D, MaxPooling2D, Dense, Activation\n",
    "from keras.optimizers import RMSprop\n",
    "from keras.callbacks import ModelCheckpoint, Callback, EarlyStopping\n",
    "from keras.utils import np_utils"
   ]
  },
  {
   "cell_type": "code",
   "execution_count": null,
   "metadata": {
    "collapsed": true
   },
   "outputs": [],
   "source": []
  },
  {
   "cell_type": "code",
   "execution_count": 12,
   "metadata": {},
   "outputs": [
    {
     "name": "stdout",
     "output_type": "stream",
     "text": [
      "First layer...\n",
      "Second layer...\n",
      "Third layer...\n",
      "Compiling model...\n"
     ]
    }
   ],
   "source": [
    "def catdog_vgg16():\n",
    "    objective = 'binary_crossentropy'\n",
    "    optimizer = RMSprop(lr=1e-4)\n",
    "    model = Sequential()\n",
    "    model.add(Conv2D(32, 3, padding='same', input_shape=training_data.shape[1:], activation='relu'))\n",
    "    model.add(Conv2D(32, 3, padding='same', activation='relu'))\n",
    "    model.add(MaxPooling2D(pool_size=(2, 2), data_format=\"channels_first\"))\n",
    "    print(\"First layer...\")\n",
    "    model.add(Conv2D(64, 3, padding='same', activation='relu'))\n",
    "    model.add(Conv2D(64, 3, padding='same', activation='relu'))\n",
    "    model.add(MaxPooling2D(pool_size=(2, 2), data_format=\"channels_first\"))\n",
    "    print(\"Second layer...\")\n",
    "    model.add(Conv2D(128, 3, padding='same', activation='relu'))\n",
    "    model.add(Conv2D(128, 3, padding='same', activation='relu'))\n",
    "    model.add(MaxPooling2D(pool_size=(2, 2), data_format=\"channels_first\"))\n",
    "    print(\"Third layer...\")\n",
    "    model.add(Conv2D(256, (3, 3), padding='same', activation='relu'))\n",
    "    model.add(Conv2D(256, (3, 3), padding='same', activation='relu'))\n",
    "    model.add(Conv2D(256, (3, 3), padding='same', activation='relu'))\n",
    "    model.add(MaxPooling2D(pool_size=(2, 2), data_format=\"channels_first\"))\n",
    "\n",
    "    model.add(Flatten())\n",
    "    model.add(Dense(256, activation='relu'))\n",
    "    model.add(Dropout(0.5))\n",
    "\n",
    "    model.add(Dense(256, activation='relu'))\n",
    "    model.add(Dropout(0.5))\n",
    "\n",
    "    model.add(Dense(1))\n",
    "    model.add(Activation('sigmoid'))\n",
    "    print(\"Compiling model...\")\n",
    "    model.compile(loss=objective, optimizer=optimizer, metrics=['accuracy'])\n",
    "    return model\n",
    "\n",
    "model = catdog_vgg16()"
   ]
  },
  {
   "cell_type": "code",
   "execution_count": null,
   "metadata": {},
   "outputs": [
    {
     "name": "stderr",
     "output_type": "stream",
     "text": [
      "/Users/jasons/anaconda2/lib/python2.7/site-packages/keras/models.py:939: UserWarning: The `nb_epoch` argument in `fit` has been renamed `epochs`.\n",
      "  warnings.warn('The `nb_epoch` argument in `fit` '\n"
     ]
    },
    {
     "name": "stdout",
     "output_type": "stream",
     "text": [
      "Train on 18750 samples, validate on 6250 samples\n",
      "Epoch 1/10\n",
      " - 184s - loss: 0.0044 - acc: 0.9990 - val_loss: 1.1921e-07 - val_acc: 1.0000\n",
      "Epoch 2/10\n"
     ]
    }
   ],
   "source": [
    "model.fit(training_data, training_labels, batch_size=32, nb_epoch=10, validation_split=0.25, verbose=2, shuffle=True)"
   ]
  },
  {
   "cell_type": "code",
   "execution_count": null,
   "metadata": {
    "collapsed": true
   },
   "outputs": [],
   "source": [
    "predictions = model.predict(tesing_image, verbose=0)"
   ]
  },
  {
   "cell_type": "code",
   "execution_count": null,
   "metadata": {
    "collapsed": true
   },
   "outputs": [],
   "source": [
    "for i in range(0,10):\n",
    "    if predictions[i, 0] >= 0.5: \n",
    "        print('I am {:.2%} sure this is a Dog'.format(predictions[i][0]))\n",
    "    else: \n",
    "        print('I am {:.2%} sure this is a Cat'.format(1-predictions[i][0]))\n",
    "        \n",
    "    plt.imshow(test2[i].T)\n",
    "    plt.show()"
   ]
  }
 ],
 "metadata": {
  "kernelspec": {
   "display_name": "Python 3",
   "language": "python",
   "name": "python3"
  },
  "language_info": {
   "codemirror_mode": {
    "name": "ipython",
    "version": 3
   },
   "file_extension": ".py",
   "mimetype": "text/x-python",
   "name": "python",
   "nbconvert_exporter": "python",
   "pygments_lexer": "ipython3",
   "version": "3.5.4"
  }
 },
 "nbformat": 4,
 "nbformat_minor": 2
}
